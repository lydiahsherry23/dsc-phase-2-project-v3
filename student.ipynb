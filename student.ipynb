{
 "cells": [
  {
   "cell_type": "markdown",
   "metadata": {},
   "source": [
    "## Final Project Submission\n",
    "\n",
    "Please fill out:\n",
    "* Student name: lydia Njeri\n",
    "* Student pace: self paced / part time / full time\n",
    "* Scheduled project review date/time: \n",
    "* Instructor name: Antony Muiko\n",
    "* Blog post URL:\n"
   ]
  },
  {
   "cell_type": "code",
   "execution_count": 25,
   "metadata": {},
   "outputs": [],
   "source": [
    "# Your code here - remember to use markdown cells for comments as well!\n",
    "#Importing necessary libraries\n",
    "import pandas as pd\n",
    "import sqlite3\n",
    "import matplotlib.pyplot as plt\n",
    "from sklearn.model_selection import train_test_split\n",
    "from sklearn.linear_model import LinearRegression\n",
    "from sklearn.metrics import mean_squared_error\n"
   ]
  },
  {
   "cell_type": "code",
   "execution_count": 26,
   "metadata": {},
   "outputs": [],
   "source": [
    "import pandas as pd\n",
    "\n",
    "# initializing a DataFrame\n",
    "movie_gross_df = pd.DataFrame({\n",
    "    'foreign_gross': ['1,234', '5,678', '9,012']\n",
    "})\n"
   ]
  },
  {
   "cell_type": "code",
   "execution_count": 27,
   "metadata": {},
   "outputs": [
    {
     "name": "stdout",
     "output_type": "stream",
     "text": [
      "Summary Statistics for 'foreign_gross':\n",
      "       foreign_gross\n",
      "count              3\n",
      "unique             3\n",
      "top            1,234\n",
      "freq               1\n"
     ]
    }
   ],
   "source": [
    "# Print summary statistics\n",
    "summary_statistics = movie_gross_df.describe()\n",
    "print(\"Summary Statistics for 'foreign_gross':\")\n",
    "print(summary_statistics)\n"
   ]
  },
  {
   "cell_type": "code",
   "execution_count": 28,
   "metadata": {},
   "outputs": [
    {
     "name": "stdout",
     "output_type": "stream",
     "text": [
      "       foreign_gross\n",
      "count              3\n",
      "unique             3\n",
      "top            1,234\n",
      "freq               1\n"
     ]
    }
   ],
   "source": [
    "# Assuming you have more columns\n",
    "summary_statistics_all = movie_gross_df.describe(include='all')\n",
    "print(summary_statistics_all)\n"
   ]
  },
  {
   "cell_type": "code",
   "execution_count": 29,
   "metadata": {},
   "outputs": [
    {
     "name": "stdout",
     "output_type": "stream",
     "text": [
      "   foreign_gross\n",
      "0           1234\n",
      "1           5678\n",
      "2           9012\n"
     ]
    }
   ],
   "source": [
    "import pandas as pd\n",
    "\n",
    "# Sample data \n",
    "movie_gross_df = pd.DataFrame({\n",
    "    'foreign_gross': ['1,234', '5,678', '9,012']\n",
    "})\n",
    "\n",
    "# Remove commas and convert to numeric\n",
    "movie_gross_df['foreign_gross'] = movie_gross_df['foreign_gross'].str.replace(',', '')\n",
    "\n",
    "# Convert to numeric, forcing errors to NaN\n",
    "movie_gross_df['foreign_gross'] = pd.to_numeric(movie_gross_df['foreign_gross'], errors='coerce')\n",
    "\n",
    "print(movie_gross_df)\n"
   ]
  },
  {
   "cell_type": "code",
   "execution_count": 30,
   "metadata": {},
   "outputs": [
    {
     "name": "stdout",
     "output_type": "stream",
     "text": [
      "Original DataFrame with NaN values:\n",
      "   foreign_gross\n",
      "0         1234.0\n",
      "1         5678.0\n",
      "2            NaN\n",
      "3         9012.0\n",
      "4            NaN\n"
     ]
    }
   ],
   "source": [
    "# Sample data with NaN values\n",
    "movie_gross_df = pd.DataFrame({\n",
    "    'foreign_gross': ['1,234', '5,678', None, '9,012', None]\n",
    "})\n",
    "\n",
    "# Convert the 'foreign_gross' column to numeric, forcing errors to NaN\n",
    "movie_gross_df['foreign_gross'] = movie_gross_df['foreign_gross'].str.replace(',', '')\n",
    "movie_gross_df['foreign_gross'] = pd.to_numeric(movie_gross_df['foreign_gross'], errors='coerce')\n",
    "\n",
    "# Print the original DataFrame\n",
    "print(\"Original DataFrame with NaN values:\")\n",
    "print(movie_gross_df)\n"
   ]
  },
  {
   "cell_type": "code",
   "execution_count": 31,
   "metadata": {},
   "outputs": [
    {
     "name": "stdout",
     "output_type": "stream",
     "text": [
      "\n",
      "DataFrame after filling NaN values with the median:\n",
      "   foreign_gross\n",
      "0         1234.0\n",
      "1         5678.0\n",
      "2         5678.0\n",
      "3         9012.0\n",
      "4         5678.0\n"
     ]
    }
   ],
   "source": [
    "# Calculate the median of the 'foreign_gross' column\n",
    "median_foreign_gross = movie_gross_df['foreign_gross'].median()\n",
    "\n",
    "# Fill NaN values with the median\n",
    "movie_gross_df['foreign_gross'] = movie_gross_df['foreign_gross'].fillna(median_foreign_gross)\n",
    "\n",
    "print(\"\\nDataFrame after filling NaN values with the median:\")\n",
    "print(movie_gross_df)\n"
   ]
  },
  {
   "cell_type": "code",
   "execution_count": 59,
   "metadata": {},
   "outputs": [
    {
     "name": "stdout",
     "output_type": "stream",
     "text": [
      "   foreign_gross\n",
      "0           1234\n",
      "1           5678\n",
      "2           9012\n"
     ]
    },
    {
     "data": {
      "image/png": "[encoded data removed]",
      "text/plain": [
       "<Figure size 720x432 with 1 Axes>"
      ]
     },
     "metadata": {},
     "output_type": "display_data"
    }
   ],
   "source": [
    "import pandas as pd\n",
    "import matplotlib.pyplot as plt\n",
    "\n",
    "# Sample data\n",
    "movie_gross_df = pd.DataFrame({\n",
    "    'foreign_gross': ['1,234', '5,678', '9,012']\n",
    "})\n",
    "\n",
    "# Remove commas and convert to numeric\n",
    "movie_gross_df['foreign_gross'] = movie_gross_df['foreign_gross'].str.replace(',', '')\n",
    "\n",
    "# Convert to numeric, forcing errors to NaN\n",
    "movie_gross_df['foreign_gross'] = pd.to_numeric(movie_gross_df['foreign_gross'], errors='coerce')\n",
    "\n",
    "print(movie_gross_df)\n",
    "\n",
    "# Plotting the line graph\n",
    "plt.figure(figsize=(10, 6))\n",
    "plt.plot(movie_gross_df['foreign_gross'], marker='o', linestyle='-')\n",
    "\n",
    "# Adding title and labels\n",
    "plt.title('Foreign Gross Over Time')\n",
    "plt.xlabel('Index')\n",
    "plt.ylabel('Foreign Gross')\n",
    "\n",
    "# Display the graph\n",
    "plt.show()\n"
   ]
  },
  {
   "cell_type": "code",
   "execution_count": 32,
   "metadata": {},
   "outputs": [
    {
     "name": "stdout",
     "output_type": "stream",
     "text": [
      "DataFrame saved to cleaned_movie_gross_data.csv\n"
     ]
    }
   ],
   "source": [
    "# Define the filename\n",
    "filename = 'cleaned_movie_gross_data.csv'\n",
    "\n",
    "# Save the DataFrame to a CSV file\n",
    "movie_gross_df.to_csv(filename, index=False)\n",
    "\n",
    "print(f\"DataFrame saved to {filename}\")\n"
   ]
  },
  {
   "cell_type": "code",
   "execution_count": 33,
   "metadata": {},
   "outputs": [
    {
     "name": "stdout",
     "output_type": "stream",
     "text": [
      "<class 'pandas.core.frame.DataFrame'>\n",
      "RangeIndex: 5 entries, 0 to 4\n",
      "Data columns (total 1 columns):\n",
      " #   Column         Non-Null Count  Dtype  \n",
      "---  ------         --------------  -----  \n",
      " 0   foreign_gross  5 non-null      float64\n",
      "dtypes: float64(1)\n",
      "memory usage: 168.0 bytes\n",
      "None\n",
      "       foreign_gross\n",
      "count       5.000000\n",
      "mean     5456.000000\n",
      "std      2766.688996\n",
      "min      1234.000000\n",
      "25%      5678.000000\n",
      "50%      5678.000000\n",
      "75%      5678.000000\n",
      "max      9012.000000\n"
     ]
    }
   ],
   "source": [
    "#  info about the DataFrame\n",
    "print(movie_gross_df.info())\n",
    "\n",
    "# descriptive statistics\n",
    "print(movie_gross_df.describe())\n"
   ]
  },
  {
   "cell_type": "code",
   "execution_count": 34,
   "metadata": {},
   "outputs": [],
   "source": [
    "# Sample movie_gross_df\n",
    "movie_gross_df = pd.DataFrame({\n",
    "    'movie_id': [1, 2, 3, 4, 5],\n",
    "    'foreign_gross': [1234.0, 5678.0, 5678.0, 9012.0, 5678.0]\n",
    "})\n",
    "\n",
    "# Sample movie_basics_df\n",
    "movie_basics_df = pd.DataFrame({\n",
    "    'movie_id': [1, 2, 3, 4, 6],\n",
    "    'title': ['Movie A', 'Movie B', 'Movie C', 'Movie D', 'Movie F'],\n",
    "    'genre': ['Action', 'Comedy', 'Drama', 'Action', 'Thriller']\n",
    "})\n"
   ]
  },
  {
   "cell_type": "code",
   "execution_count": 35,
   "metadata": {},
   "outputs": [
    {
     "name": "stdout",
     "output_type": "stream",
     "text": [
      "Merged DataFrame:\n",
      "   movie_id  foreign_gross    title   genre\n",
      "0         1         1234.0  Movie A  Action\n",
      "1         2         5678.0  Movie B  Comedy\n",
      "2         3         5678.0  Movie C   Drama\n",
      "3         4         9012.0  Movie D  Action\n"
     ]
    }
   ],
   "source": [
    "# Merge the DataFrames on 'movie_id'\n",
    "merged_df = pd.merge(movie_gross_df, movie_basics_df, on='movie_id', how='inner')\n",
    "\n",
    "# Print the merged DataFrame\n",
    "print(\"Merged DataFrame:\")\n",
    "print(merged_df)\n"
   ]
  },
  {
   "cell_type": "code",
   "execution_count": 36,
   "metadata": {},
   "outputs": [],
   "source": [
    "# Sample DataFrame with null values\n",
    "data = {\n",
    "    'movie_id': [1, 2, 3, 4, 5],\n",
    "    'foreign_gross': [1234.0, None, 5678.0, 9012.0, None],\n",
    "    'title': ['Movie A', 'Movie B', None, 'Movie D', 'Movie E'],\n",
    "    'genre': ['Action', None, 'Drama', 'Action', 'Comedy']\n",
    "}\n",
    "\n",
    "df = pd.DataFrame(data)\n"
   ]
  },
  {
   "cell_type": "code",
   "execution_count": 60,
   "metadata": {},
   "outputs": [
    {
     "data": {
      "image/png": "[encoded data removed]",
      "text/plain": [
       "<Figure size 576x576 with 1 Axes>"
      ]
     },
     "metadata": {},
     "output_type": "display_data"
    }
   ],
   "source": [
    "import pandas as pd\n",
    "import matplotlib.pyplot as plt\n",
    "\n",
    "# Sample DataFrame with null values\n",
    "data = {\n",
    "    'movie_id': [1, 2, 3, 4, 5],\n",
    "    'foreign_gross': [1234.0, None, 5678.0, 9012.0, None],\n",
    "    'title': ['Movie A', 'Movie B', None, 'Movie D', 'Movie E'],\n",
    "    'genre': ['Action', None, 'Drama', 'Action', 'Comedy']\n",
    "}\n",
    "\n",
    "df = pd.DataFrame(data)\n",
    "\n",
    "# Count the occurrences of each genre, excluding None\n",
    "genre_counts = df['genre'].value_counts(dropna=True)\n",
    "\n",
    "# Create a pie chart\n",
    "plt.figure(figsize=(8, 8))  # Optional: set the size of the figure\n",
    "plt.pie(genre_counts, labels=genre_counts.index, autopct='%1.1f%%', startangle=140)\n",
    "\n",
    "# Adding title\n",
    "plt.title('Genre Distribution')\n",
    "\n",
    "# Show the plot\n",
    "plt.show()\n"
   ]
  },
  {
   "cell_type": "code",
   "execution_count": 61,
   "metadata": {},
   "outputs": [],
   "source": [
    "# Sample data\n",
    "data = {\n",
    "    'movie_id': [1, 2, 3, 4, 5],\n",
    "    'domestic_gross': [100000, 200000, 300000, 400000, 500000],\n",
    "    'foreign_gross': [150000, 250000, 350000, 450000, 550000],\n",
    "    'rating': [7.5, 8.0, 8.5, 9.0, 9.5]\n",
    "}\n",
    "\n",
    "df = pd.DataFrame(data)\n"
   ]
  },
  {
   "cell_type": "code",
   "execution_count": 62,
   "metadata": {},
   "outputs": [],
   "source": [
    "# Calculate total gross\n",
    "df['total_gross'] = df['domestic_gross'] + df['foreign_gross']\n"
   ]
  },
  {
   "cell_type": "code",
   "execution_count": 63,
   "metadata": {},
   "outputs": [
    {
     "name": "stdout",
     "output_type": "stream",
     "text": [
      "                domestic_gross  foreign_gross  total_gross  rating\n",
      "domestic_gross             1.0            1.0          1.0     1.0\n",
      "foreign_gross              1.0            1.0          1.0     1.0\n",
      "total_gross                1.0            1.0          1.0     1.0\n",
      "rating                     1.0            1.0          1.0     1.0\n"
     ]
    }
   ],
   "source": [
    "# Calculate the correlation matrix\n",
    "correlation_matrix = df[['domestic_gross', 'foreign_gross', 'total_gross', 'rating']].corr()\n",
    "\n",
    "# Print the correlation matrix\n",
    "print(correlation_matrix)\n"
   ]
  },
  {
   "cell_type": "code",
   "execution_count": 65,
   "metadata": {},
   "outputs": [
    {
     "data": {
      "image/png": "[encoded data removed]",
      "text/plain": [
       "<Figure size 720x576 with 2 Axes>"
      ]
     },
     "metadata": {},
     "output_type": "display_data"
    }
   ],
   "source": [
    "# Plot the correlation matrix\n",
    "plt.figure(figsize=(10, 8))\n",
    "sns.heatmap(correlation_matrix, annot=True, cmap='coolwarm', linewidths=0.5)\n",
    "plt.title('Correlation Matrix of Box Office Performance and Movie Ratings')\n",
    "plt.show()\n"
   ]
  },
  {
   "cell_type": "code",
   "execution_count": 64,
   "metadata": {},
   "outputs": [
    {
     "data": {
      "image/png": "[encoded data removed]",
      "text/plain": [
       "<Figure size 720x576 with 2 Axes>"
      ]
     },
     "metadata": {},
     "output_type": "display_data"
    }
   ],
   "source": [
    "# Plot the correlation matrix\n",
    "plt.figure(figsize=(10, 8))\n",
    "sns.heatmap(correlation_matrix, annot=True, cmap='coolwarm', linewidths=0.5)\n",
    "plt.title('Correlation Matrix of Box Office Performance and Movie Ratings')\n",
    "plt.show()\n"
   ]
  },
  {
   "cell_type": "code",
   "execution_count": 37,
   "metadata": {},
   "outputs": [
    {
     "name": "stdout",
     "output_type": "stream",
     "text": [
      "Columns with null values:\n",
      "foreign_gross    2\n",
      "title            1\n",
      "genre            1\n",
      "dtype: int64\n"
     ]
    }
   ],
   "source": [
    "# Count null values in each column\n",
    "null_counts = df.isnull().sum()\n",
    "\n",
    "# Identify columns with any null values\n",
    "columns_with_nulls = null_counts[null_counts > 0]\n",
    "\n",
    "# Print columns with null values and their counts\n",
    "print(\"Columns with null values:\")\n",
    "print(columns_with_nulls)\n"
   ]
  },
  {
   "cell_type": "code",
   "execution_count": 38,
   "metadata": {},
   "outputs": [
    {
     "name": "stdout",
     "output_type": "stream",
     "text": [
      "Null value counts for all columns:\n",
      "movie_id         0\n",
      "foreign_gross    2\n",
      "title            1\n",
      "genre            1\n",
      "dtype: int64\n"
     ]
    }
   ],
   "source": [
    "# Print all columns with their null counts\n",
    "print(\"Null value counts for all columns:\")\n",
    "print(null_counts)\n"
   ]
  },
  {
   "cell_type": "code",
   "execution_count": 39,
   "metadata": {},
   "outputs": [
    {
     "name": "stdout",
     "output_type": "stream",
     "text": [
      "DataFrame after dropping columns with null values:\n",
      "   movie_id\n",
      "0         1\n",
      "1         2\n",
      "2         3\n",
      "3         4\n",
      "4         5\n"
     ]
    }
   ],
   "source": [
    "# Drop columns with any null values\n",
    "df_cleaned = df.dropna(axis=1)\n",
    "\n",
    "print(\"DataFrame after dropping columns with null values:\")\n",
    "print(df_cleaned)\n"
   ]
  },
  {
   "cell_type": "code",
   "execution_count": 40,
   "metadata": {},
   "outputs": [
    {
     "name": "stdout",
     "output_type": "stream",
     "text": [
      "Column 'foreign_gross' has null values at indices: [1, 4]\n",
      "Column 'title' has null values at indices: [2]\n",
      "Column 'genre' has null values at indices: [1]\n"
     ]
    }
   ],
   "source": [
    "for column in columns_with_nulls.index:\n",
    "    null_indices = df[df[column].isnull()].index.tolist()\n",
    "    print(f\"Column '{column}' has null values at indices: {null_indices}\")\n"
   ]
  },
  {
   "cell_type": "code",
   "execution_count": 66,
   "metadata": {},
   "outputs": [],
   "source": [
    "# Sample data\n",
    "data = {\n",
    "    'studio': ['Studio A', 'Studio B', 'Studio A', 'Studio C', 'Studio B', 'Studio A'],\n",
    "    'domestic_gross': [100000, 200000, 300000, 400000, 500000, 600000],\n",
    "    'foreign_gross': [150000, 250000, 350000, 450000, 550000, 650000]\n",
    "}\n",
    "\n",
    "df = pd.DataFrame(data)\n"
   ]
  },
  {
   "cell_type": "code",
   "execution_count": 67,
   "metadata": {},
   "outputs": [],
   "source": [
    "# Calculate total gross\n",
    "df['total_gross'] = df['domestic_gross'] + df['foreign_gross']\n"
   ]
  },
  {
   "cell_type": "code",
   "execution_count": 68,
   "metadata": {},
   "outputs": [
    {
     "name": "stdout",
     "output_type": "stream",
     "text": [
      "     studio  total_gross\n",
      "0  Studio A      2150000\n",
      "1  Studio B      1500000\n",
      "2  Studio C       850000\n"
     ]
    }
   ],
   "source": [
    "# Group by studio and calculate the sum of total gross\n",
    "studio_performance = df.groupby('studio')['total_gross'].sum().reset_index()\n",
    "\n",
    "#  total gross in descending order\n",
    "studio_performance = studio_performance.sort_values(by='total_gross', ascending=False)\n",
    "\n",
    "# Print  DataFrame\n",
    "print(studio_performance)\n"
   ]
  },
  {
   "cell_type": "code",
   "execution_count": 41,
   "metadata": {},
   "outputs": [
    {
     "name": "stdout",
     "output_type": "stream",
     "text": [
      "DataFrame saved to cleaned_movie_gross_data.csv\n"
     ]
    }
   ],
   "source": [
    "# Define the filename\n",
    "filename = 'cleaned_movie_gross_data.csv'\n",
    "\n",
    "# Save the DataFrame to a CSV file\n",
    "movie_gross_df.to_csv(filename, index=False)\n",
    "\n",
    "print(f\"DataFrame saved to {filename}\")\n"
   ]
  },
  {
   "cell_type": "code",
   "execution_count": 42,
   "metadata": {},
   "outputs": [
    {
     "name": "stdout",
     "output_type": "stream",
     "text": [
      "Number of null values in each column:\n",
      "movie_id         0\n",
      "foreign_gross    0\n",
      "title            0\n",
      "genre            0\n",
      "dtype: int64\n"
     ]
    }
   ],
   "source": [
    "import pandas as pd\n",
    "\n",
    "# Sample merged DataFrame\n",
    "merged_df = pd.DataFrame({\n",
    "    'movie_id': [1, 2, 3, 4],\n",
    "    'foreign_gross': [1234.0, 5678.0, 5678.0, 9012.0],\n",
    "    'title': ['Movie A', 'Movie B', 'Movie C', 'Movie D'],\n",
    "    'genre': ['Action', 'Comedy', 'Drama', 'Action']\n",
    "})\n",
    "\n",
    "# Check for null values in each column\n",
    "null_values = merged_df.isnull().sum()\n",
    "\n",
    "# Print the summary of null values\n",
    "print(\"Number of null values in each column:\")\n",
    "print(null_values)\n",
    "\n"
   ]
  },
  {
   "cell_type": "code",
   "execution_count": 43,
   "metadata": {},
   "outputs": [],
   "source": [
    "# Fill missing values with 0, if any\n",
    "movie_gross_df['foreign_gross'] = movie_gross_df['foreign_gross'].fillna(0)\n",
    "\n",
    "# drop rows with missing values\n",
    "movie_gross_df = movie_gross_df.dropna()\n"
   ]
  },
  {
   "cell_type": "code",
   "execution_count": 44,
   "metadata": {},
   "outputs": [
    {
     "data": {
      "image/png": "[encoded data removed]",
      "text/plain": [
       "<Figure size 432x288 with 1 Axes>"
      ]
     },
     "metadata": {
      "needs_background": "light"
     },
     "output_type": "display_data"
    }
   ],
   "source": [
    "import matplotlib.pyplot as plt\n",
    "\n",
    "# Plot a histogram of foreign gross revenue\n",
    "plt.hist(movie_gross_df['foreign_gross'], bins=10, color='skyblue', edgecolor='black')\n",
    "plt.title('Distribution of Foreign Gross Revenue')\n",
    "plt.xlabel('Foreign Gross Revenue')\n",
    "plt.ylabel('Frequency')\n",
    "plt.show()\n"
   ]
  },
  {
   "cell_type": "code",
   "execution_count": 45,
   "metadata": {},
   "outputs": [],
   "source": [
    "# Sample data\n",
    "data = {\n",
    "    'genre': ['Action', 'Comedy', 'Drama', 'Action', 'Comedy', 'Drama'],\n",
    "    'votes': [1500, 2000, 2500, 1700, 1800, 2300]\n",
    "}\n",
    "\n",
    "movie_df = pd.DataFrame(data)\n"
   ]
  },
  {
   "cell_type": "code",
   "execution_count": 46,
   "metadata": {},
   "outputs": [
    {
     "name": "stdout",
     "output_type": "stream",
     "text": [
      "    genre  votes\n",
      "0  Action   3200\n",
      "1  Comedy   3800\n",
      "2   Drama   4800\n"
     ]
    }
   ],
   "source": [
    "# Group by genre and sum the votes\n",
    "genre_votes = movie_df.groupby('genre')['votes'].sum().reset_index()\n",
    "\n",
    "# Print the grouped data\n",
    "print(genre_votes)\n"
   ]
  },
  {
   "cell_type": "code",
   "execution_count": 47,
   "metadata": {},
   "outputs": [
    {
     "name": "stdout",
     "output_type": "stream",
     "text": [
      "    genre  votes\n",
      "0  Action   3200\n",
      "1  Comedy   3800\n",
      "2   Drama   4800\n"
     ]
    },
    {
     "data": {
      "image/png": "[encoded data removed]",
      "text/plain": [
       "<Figure size 720x432 with 1 Axes>"
      ]
     },
     "metadata": {},
     "output_type": "display_data"
    }
   ],
   "source": [
    "import pandas as pd\n",
    "import matplotlib.pyplot as plt\n",
    "import seaborn as sns\n",
    "\n",
    "# Sample data\n",
    "data = {\n",
    "    'genre': ['Action', 'Comedy', 'Drama', 'Action', 'Comedy', 'Drama'],\n",
    "    'votes': [1500, 2000, 2500, 1700, 1800, 2300]\n",
    "}\n",
    "\n",
    "movie_df = pd.DataFrame(data)\n",
    "\n",
    "# Group by genre and sum the votes\n",
    "genre_votes = movie_df.groupby('genre')['votes'].sum().reset_index()\n",
    "\n",
    "# Print the grouped data\n",
    "print(genre_votes)\n",
    "\n",
    "# Set the aesthetic style of the plots\n",
    "sns.set(style=\"whitegrid\")\n",
    "\n",
    "# Create a bar plot\n",
    "plt.figure(figsize=(10, 6))\n",
    "sns.barplot(x='genre', y='votes', data=genre_votes, palette='viridis')\n",
    "\n",
    "# Add titles and labels\n",
    "plt.title('Total Number of Votes by Genre')\n",
    "plt.xlabel('Genre')\n",
    "plt.ylabel('Total Votes')\n",
    "plt.xticks(rotation=45)  # Rotate genre labels for better readability\n",
    "\n",
    "# Show plot\n",
    "plt.show()\n"
   ]
  }
 ],
 "metadata": {
  "kernelspec": {
   "display_name": "Python 3",
   "language": "python",
   "name": "python3"
  },
  "language_info": {
   "codemirror_mode": {
    "name": "ipython",
    "version": 3
   },
   "file_extension": ".py",
   "mimetype": "text/x-python",
   "name": "python",
   "nbconvert_exporter": "python",
   "pygments_lexer": "ipython3",
   "version": "3.8.5"
  }
 },
 "nbformat": 4,
 "nbformat_minor": 2
}
